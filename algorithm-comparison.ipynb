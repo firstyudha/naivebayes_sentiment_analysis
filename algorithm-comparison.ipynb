{
 "cells": [
  {
   "cell_type": "code",
   "execution_count": 1,
   "id": "e1117fb0",
   "metadata": {},
   "outputs": [
    {
     "name": "stdout",
     "output_type": "stream",
     "text": [
      "Ukuran dataset pelatihan: 70000 sampel\n",
      "\n",
      "--- Waktu Pelatihan ---\n",
      "Waktu pelatihan Naive Bayes: 0.132094 detik\n",
      "Waktu pelatihan Decision Tree: 38.682817 detik\n",
      "\n",
      "--- Kesimpulan ---\n",
      "Naive Bayes lebih cepat dalam pelatihan.\n",
      "\n",
      "--- Akurasi Model ---\n",
      "Akurasi Naive Bayes: 0.5043\n",
      "Akurasi Decision Tree: 0.4953\n"
     ]
    }
   ],
   "source": [
    "import time\n",
    "import numpy as np\n",
    "from sklearn.model_selection import train_test_split\n",
    "from sklearn.naive_bayes import GaussianNB\n",
    "from sklearn.tree import DecisionTreeClassifier\n",
    "\n",
    "# 1. Membuat dataset acak untuk demonstrasi\n",
    "# Dataset dengan 100,000 sampel dan 20 fitur\n",
    "X = np.random.rand(100000, 20)\n",
    "y = np.random.randint(0, 2, 100000)\n",
    "\n",
    "# Memisahkan data menjadi data pelatihan dan pengujian\n",
    "X_train, X_test, y_train, y_test = train_test_split(X, y, test_size=0.3, random_state=42)\n",
    "\n",
    "print(f\"Ukuran dataset pelatihan: {X_train.shape[0]} sampel\")\n",
    "\n",
    "# 2. Mengukur waktu pelatihan Naive Bayes\n",
    "start_time_nb = time.time()\n",
    "nb_model = GaussianNB()\n",
    "nb_model.fit(X_train, y_train)\n",
    "end_time_nb = time.time()\n",
    "training_time_nb = end_time_nb - start_time_nb\n",
    "\n",
    "print(\"\\n--- Waktu Pelatihan ---\")\n",
    "print(f\"Waktu pelatihan Naive Bayes: {training_time_nb:.6f} detik\")\n",
    "\n",
    "# 3. Mengukur waktu pelatihan Decision Tree\n",
    "start_time_dt = time.time()\n",
    "dt_model = DecisionTreeClassifier(random_state=42)\n",
    "dt_model.fit(X_train, y_train)\n",
    "end_time_dt = time.time()\n",
    "training_time_dt = end_time_dt - start_time_dt\n",
    "\n",
    "print(f\"Waktu pelatihan Decision Tree: {training_time_dt:.6f} detik\")\n",
    "\n",
    "# 4. Membandingkan waktu\n",
    "print(\"\\n--- Kesimpulan ---\")\n",
    "if training_time_nb < training_time_dt:\n",
    "    print(\"Naive Bayes lebih cepat dalam pelatihan.\")\n",
    "else:\n",
    "    print(\"Decision Tree lebih cepat dalam pelatihan.\")\n",
    "\n",
    "# Opsi: Anda juga bisa membandingkan akurasi jika Anda mau\n",
    "print(\"\\n--- Akurasi Model ---\")\n",
    "accuracy_nb = nb_model.score(X_test, y_test)\n",
    "accuracy_dt = dt_model.score(X_test, y_test)\n",
    "print(f\"Akurasi Naive Bayes: {accuracy_nb:.4f}\")\n",
    "print(f\"Akurasi Decision Tree: {accuracy_dt:.4f}\")"
   ]
  }
 ],
 "metadata": {
  "kernelspec": {
   "display_name": "base",
   "language": "python",
   "name": "python3"
  },
  "language_info": {
   "codemirror_mode": {
    "name": "ipython",
    "version": 3
   },
   "file_extension": ".py",
   "mimetype": "text/x-python",
   "name": "python",
   "nbconvert_exporter": "python",
   "pygments_lexer": "ipython3",
   "version": "3.12.7"
  }
 },
 "nbformat": 4,
 "nbformat_minor": 5
}
