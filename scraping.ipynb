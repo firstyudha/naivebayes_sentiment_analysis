{
 "cells": [
  {
   "cell_type": "code",
   "execution_count": null,
   "id": "a4271bdb",
   "metadata": {},
   "outputs": [
    {
     "name": "stdout",
     "output_type": "stream",
     "text": [
      "Collecting google-play-scraperNote: you may need to restart the kernel to use updated packages.\n",
      "\n",
      "  Downloading google_play_scraper-1.2.7-py3-none-any.whl.metadata (50 kB)\n",
      "Downloading google_play_scraper-1.2.7-py3-none-any.whl (28 kB)\n",
      "Installing collected packages: google-play-scraper\n",
      "Successfully installed google-play-scraper-1.2.7\n"
     ]
    },
    {
     "name": "stderr",
     "output_type": "stream",
     "text": [
      "C:\\Users\\HP\\AppData\\Local\\Temp\\ipykernel_8076\\2663427057.py:18: SettingWithCopyWarning: \n",
      "A value is trying to be set on a copy of a slice from a DataFrame.\n",
      "Try using .loc[row_indexer,col_indexer] = value instead\n",
      "\n",
      "See the caveats in the documentation: https://pandas.pydata.org/pandas-docs/stable/user_guide/indexing.html#returning-a-view-versus-a-copy\n",
      "  filtered_df['at'] = pd.to_datetime(filtered_df['at'])\n"
     ]
    }
   ],
   "source": [
    "%pip install google-play-scraper\n",
    "from google_play_scraper import Sort, reviews_all\n",
    "import pandas as pd\n",
    "\n",
    "scrapreview = reviews_all(\n",
    "    'xxxx', # replace with the actual app ID\n",
    "    sleep_milliseconds=0, # defaults to 0\n",
    "    lang='id', # defaults to 'en'\n",
    "    country='id', # defaults to 'us'\n",
    "    sort=Sort.MOST_RELEVANT, # defaults to Sort.MOST_RELEVANT\n",
    ")\n",
    "\n",
    "app_reviews_df = pd.DataFrame(scrapreview)\n",
    "selected_columns = ['content', 'score', 'reviewCreatedVersion', 'at']\n",
    "filtered_df = app_reviews_df[selected_columns]\n",
    "\n",
    "# Filter reviews from year 2025 only\n",
    "filtered_df['at'] = pd.to_datetime(filtered_df['at'])\n",
    "filtered_2025 = filtered_df[filtered_df['at'].dt.year == 2025]\n",
    "\n",
    "filtered_2025.to_excel('reviews_2025.xlsx', index=False)"
   ]
  }
 ],
 "metadata": {
  "kernelspec": {
   "display_name": "base",
   "language": "python",
   "name": "python3"
  },
  "language_info": {
   "codemirror_mode": {
    "name": "ipython",
    "version": 3
   },
   "file_extension": ".py",
   "mimetype": "text/x-python",
   "name": "python",
   "nbconvert_exporter": "python",
   "pygments_lexer": "ipython3",
   "version": "3.12.7"
  }
 },
 "nbformat": 4,
 "nbformat_minor": 5
}
